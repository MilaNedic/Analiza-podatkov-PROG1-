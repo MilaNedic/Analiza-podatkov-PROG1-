{
 "cells": [
  {
   "cell_type": "code",
   "execution_count": 1,
   "metadata": {},
   "outputs": [],
   "source": [
    "# naložimo knjižnice\n",
    "import numpy as np \n",
    "import pandas as pd\n",
    "import os\n",
    "\n",
    "# naložimo razpredelnico, s katero bomo delali\n",
    "anime = pd.read_csv('anime/anime.csv')\n",
    "\n",
    "# izberemo interaktivni \"notebook\" stil risanja\n",
    "%matplotlib inline\n"
   ]
  },
  {
   "cell_type": "code",
   "execution_count": 22,
   "metadata": {},
   "outputs": [
    {
     "data": {
      "text/plain": [
       "'C:\\\\Users\\\\rosel\\\\Desktop\\\\Analiza-podatkov-PROG1-'"
      ]
     },
     "execution_count": 22,
     "metadata": {},
     "output_type": "execute_result"
    }
   ],
   "source": [
    "# vidimo, v kateri mapi se trenutno nahajamo -> specificiramo pot, kjer naj pd isce .csv datoteko\n",
    "os.getcwd()"
   ]
  },
  {
   "cell_type": "code",
   "execution_count": 2,
   "metadata": {},
   "outputs": [
    {
     "data": {
      "text/html": "<div>\n<style scoped>\n    .dataframe tbody tr th:only-of-type {\n        vertical-align: middle;\n    }\n\n    .dataframe tbody tr th {\n        vertical-align: top;\n    }\n\n    .dataframe thead th {\n        text-align: right;\n    }\n</style>\n<table border=\"1\" class=\"dataframe\">\n  <thead>\n    <tr style=\"text-align: right;\">\n      <th></th>\n      <th>opis</th>\n      <th>type</th>\n      <th>stevilo_epizod</th>\n      <th>ocena</th>\n      <th>start_date</th>\n      <th>end_date</th>\n      <th>stevilo_glasov</th>\n      <th>rating</th>\n    </tr>\n    <tr>\n      <th>naslov</th>\n      <th></th>\n      <th></th>\n      <th></th>\n      <th></th>\n      <th></th>\n      <th></th>\n      <th></th>\n      <th></th>\n    </tr>\n  </thead>\n  <tbody>\n    <tr>\n      <td>Fullmetal Alchemist: Brotherhood</td>\n      <td>&amp;quot;In order for something to be obtained, s...</td>\n      <td>TV</td>\n      <td>64</td>\n      <td>9.23</td>\n      <td>04-05-09</td>\n      <td>07-04-10</td>\n      <td>1,567,834</td>\n      <td>R</td>\n    </tr>\n    <tr>\n      <td>Steins;Gate</td>\n      <td>The self-proclaimed mad scientist Rintarou Oka...</td>\n      <td>TV</td>\n      <td>24</td>\n      <td>9.12</td>\n      <td>04-06-11</td>\n      <td>09-14-11</td>\n      <td>1,295,824</td>\n      <td>PG-13</td>\n    </tr>\n    <tr>\n      <td>Hunter x Hunter (2011)</td>\n      <td>Hunter x Hunter is set in a world where Hunter...</td>\n      <td>TV</td>\n      <td>148</td>\n      <td>9.11</td>\n      <td>10-02-11</td>\n      <td>09-24-14</td>\n      <td>1,011,917</td>\n      <td>PG-13</td>\n    </tr>\n    <tr>\n      <td>Kimi no Na wa.</td>\n      <td>Mitsuha Miyamizu, a high school girl, yearns t...</td>\n      <td>Movie</td>\n      <td>1</td>\n      <td>9.09</td>\n      <td>08-26-16</td>\n      <td>08-26-16</td>\n      <td>1,096,126</td>\n      <td>PG-13</td>\n    </tr>\n    <tr>\n      <td>Shingeki no Kyojin Season 3 Part 2</td>\n      <td>Seeking to restore humanity’s diminishing hope...</td>\n      <td>TV</td>\n      <td>10</td>\n      <td>9.08</td>\n      <td>04-29-19</td>\n      <td>07-01-19</td>\n      <td>405,364</td>\n      <td>R</td>\n    </tr>\n    <tr>\n      <td>...</td>\n      <td>...</td>\n      <td>...</td>\n      <td>...</td>\n      <td>...</td>\n      <td>...</td>\n      <td>...</td>\n      <td>...</td>\n      <td>...</td>\n    </tr>\n    <tr>\n      <td>Rurouni Kenshin: Meiji Kenkaku Romantan - Seisou-hen</td>\n      <td>Kaoru goes to the harbor every day to see if K...</td>\n      <td>OVA</td>\n      <td>2</td>\n      <td>8.05</td>\n      <td>12-03-01</td>\n      <td>12-03-01</td>\n      <td>63,628</td>\n      <td>R</td>\n    </tr>\n    <tr>\n      <td>Wotaku ni Koi wa Muzukashii</td>\n      <td>Having slept through all four of her alarms, t...</td>\n      <td>TV</td>\n      <td>11</td>\n      <td>8.04</td>\n      <td>04-13-18</td>\n      <td>06-22-18</td>\n      <td>294,103</td>\n      <td>PG-13</td>\n    </tr>\n    <tr>\n      <td>Little Witch Academia (TV)</td>\n      <td>&amp;quot;A believing heart is your magic!&amp;quot;—t...</td>\n      <td>TV</td>\n      <td>25</td>\n      <td>8.04</td>\n      <td>01-09-17</td>\n      <td>06-26-17</td>\n      <td>330,858</td>\n      <td>PG</td>\n    </tr>\n    <tr>\n      <td>Noragami Aragoto OVA</td>\n      <td>Bundled with the limited editions of the 15th ...</td>\n      <td>OVA</td>\n      <td>2</td>\n      <td>8.04</td>\n      <td>11-17-15</td>\n      <td>03-17-16</td>\n      <td>139,080</td>\n      <td>PG-13</td>\n    </tr>\n    <tr>\n      <td>Ore Monogatari!!</td>\n      <td>With his muscular build and tall stature, Take...</td>\n      <td>TV</td>\n      <td>24</td>\n      <td>8.04</td>\n      <td>04-09-15</td>\n      <td>09-24-15</td>\n      <td>365,335</td>\n      <td>PG-13</td>\n    </tr>\n  </tbody>\n</table>\n<p>490 rows × 8 columns</p>\n</div>",
      "text/plain": "                                                                                                 opis  \\\nnaslov                                                                                                  \nFullmetal Alchemist: Brotherhood                    &quot;In order for something to be obtained, s...   \nSteins;Gate                                         The self-proclaimed mad scientist Rintarou Oka...   \nHunter x Hunter (2011)                              Hunter x Hunter is set in a world where Hunter...   \nKimi no Na wa.                                      Mitsuha Miyamizu, a high school girl, yearns t...   \nShingeki no Kyojin Season 3 Part 2                  Seeking to restore humanity’s diminishing hope...   \n...                                                                                               ...   \nRurouni Kenshin: Meiji Kenkaku Romantan - Seiso...  Kaoru goes to the harbor every day to see if K...   \nWotaku ni Koi wa Muzukashii                         Having slept through all four of her alarms, t...   \nLittle Witch Academia (TV)                          &quot;A believing heart is your magic!&quot;—t...   \nNoragami Aragoto OVA                                Bundled with the limited editions of the 15th ...   \nOre Monogatari!!                                    With his muscular build and tall stature, Take...   \n\n                                                     type  stevilo_epizod  \\\nnaslov                                                                      \nFullmetal Alchemist: Brotherhood                       TV              64   \nSteins;Gate                                            TV              24   \nHunter x Hunter (2011)                                 TV             148   \nKimi no Na wa.                                      Movie               1   \nShingeki no Kyojin Season 3 Part 2                     TV              10   \n...                                                   ...             ...   \nRurouni Kenshin: Meiji Kenkaku Romantan - Seiso...    OVA               2   \nWotaku ni Koi wa Muzukashii                            TV              11   \nLittle Witch Academia (TV)                             TV              25   \nNoragami Aragoto OVA                                  OVA               2   \nOre Monogatari!!                                       TV              24   \n\n                                                    ocena start_date  \\\nnaslov                                                                 \nFullmetal Alchemist: Brotherhood                     9.23   04-05-09   \nSteins;Gate                                          9.12   04-06-11   \nHunter x Hunter (2011)                               9.11   10-02-11   \nKimi no Na wa.                                       9.09   08-26-16   \nShingeki no Kyojin Season 3 Part 2                   9.08   04-29-19   \n...                                                   ...        ...   \nRurouni Kenshin: Meiji Kenkaku Romantan - Seiso...   8.05   12-03-01   \nWotaku ni Koi wa Muzukashii                          8.04   04-13-18   \nLittle Witch Academia (TV)                           8.04   01-09-17   \nNoragami Aragoto OVA                                 8.04   11-17-15   \nOre Monogatari!!                                     8.04   04-09-15   \n\n                                                    end_date stevilo_glasov  \\\nnaslov                                                                        \nFullmetal Alchemist: Brotherhood                    07-04-10      1,567,834   \nSteins;Gate                                         09-14-11      1,295,824   \nHunter x Hunter (2011)                              09-24-14      1,011,917   \nKimi no Na wa.                                      08-26-16      1,096,126   \nShingeki no Kyojin Season 3 Part 2                  07-01-19        405,364   \n...                                                      ...            ...   \nRurouni Kenshin: Meiji Kenkaku Romantan - Seiso...  12-03-01         63,628   \nWotaku ni Koi wa Muzukashii                         06-22-18        294,103   \nLittle Witch Academia (TV)                          06-26-17        330,858   \nNoragami Aragoto OVA                                03-17-16        139,080   \nOre Monogatari!!                                    09-24-15        365,335   \n\n                                                   rating  \nnaslov                                                     \nFullmetal Alchemist: Brotherhood                        R  \nSteins;Gate                                         PG-13  \nHunter x Hunter (2011)                              PG-13  \nKimi no Na wa.                                      PG-13  \nShingeki no Kyojin Season 3 Part 2                      R  \n...                                                   ...  \nRurouni Kenshin: Meiji Kenkaku Romantan - Seiso...      R  \nWotaku ni Koi wa Muzukashii                         PG-13  \nLittle Witch Academia (TV)                             PG  \nNoragami Aragoto OVA                                PG-13  \nOre Monogatari!!                                    PG-13  \n\n[490 rows x 8 columns]"
     },
     "execution_count": 2,
     "metadata": {},
     "output_type": "execute_result"
    }
   ],
   "source": [
    "anime"
   ]
  },
  {
   "cell_type": "code",
   "execution_count": null,
   "metadata": {},
   "outputs": [],
   "source": []
  }
 ],
 "metadata": {
  "file_extension": ".py",
  "kernelspec": {
   "display_name": "Python 3",
   "language": "python",
   "name": "python3"
  },
  "language_info": {
   "codemirror_mode": {
    "name": "ipython",
    "version": 3
   },
   "file_extension": ".py",
   "mimetype": "text/x-python",
   "name": "python",
   "nbconvert_exporter": "python",
   "pygments_lexer": "ipython3",
   "version": "3.7.0"
  },
  "mimetype": "text/x-python",
  "name": "python",
  "npconvert_exporter": "python",
  "pygments_lexer": "ipython3",
  "version": 3
 },
 "nbformat": 4,
 "nbformat_minor": 2
}