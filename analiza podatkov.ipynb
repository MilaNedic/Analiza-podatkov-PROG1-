{
 "cells": [
  {
   "cell_type": "code",
   "execution_count": 68,
   "metadata": {},
   "outputs": [],
   "source": [
    "# naložimo knjižnice\n",
    "import numpy as np \n",
    "import pandas as pd\n",
    "import os\n",
    "\n",
    "# naložimo razpredelnico, s katero bomo delali\n",
    "anime = pd.read_csv('anime/anime.csv')\n",
    "\n",
    "# izberemo interaktivni \"notebook\" stil risanja\n",
    "%matplotlib inline\n"
   ]
  },
  {
   "cell_type": "code",
   "execution_count": 69,
   "metadata": {},
   "outputs": [
    {
     "data": {
      "text/plain": "'c:\\\\Users\\\\rosel\\\\Desktop\\\\Analiza-podatkov-PROG1-'"
     },
     "execution_count": 69,
     "metadata": {},
     "output_type": "execute_result"
    }
   ],
   "source": [
    "# vidimo, v kateri mapi se trenutno nahajamo -> specificiramo pot, kjer naj pd isce .csv datoteko\n",
    "os.getcwd()"
   ]
  },
  {
   "cell_type": "code",
   "execution_count": 70,
   "metadata": {},
   "outputs": [
    {
     "data": {
      "text/html": "<div>\n<style scoped>\n    .dataframe tbody tr th:only-of-type {\n        vertical-align: middle;\n    }\n\n    .dataframe tbody tr th {\n        vertical-align: top;\n    }\n\n    .dataframe thead th {\n        text-align: right;\n    }\n</style>\n<table border=\"1\" class=\"dataframe\">\n  <thead>\n    <tr style=\"text-align: right;\">\n      <th></th>\n      <th>naslov</th>\n      <th>opis</th>\n      <th>type</th>\n      <th>stevilo_epizod</th>\n      <th>ocena</th>\n      <th>start_date</th>\n      <th>end_date</th>\n      <th>stevilo_glasov</th>\n      <th>rating</th>\n    </tr>\n  </thead>\n  <tbody>\n    <tr>\n      <td>0</td>\n      <td>Fullmetal Alchemist: Brotherhood</td>\n      <td>&amp;quot;In order for something to be obtained, s...</td>\n      <td>TV</td>\n      <td>64</td>\n      <td>9.23</td>\n      <td>04-05-09</td>\n      <td>07-04-10</td>\n      <td>1,614,799</td>\n      <td>R</td>\n    </tr>\n    <tr>\n      <td>1</td>\n      <td>Hunter x Hunter (2011)</td>\n      <td>Hunter x Hunter is set in a world where Hunter...</td>\n      <td>TV</td>\n      <td>148</td>\n      <td>9.11</td>\n      <td>10-02-11</td>\n      <td>09-24-14</td>\n      <td>1,052,750</td>\n      <td>PG-13</td>\n    </tr>\n    <tr>\n      <td>2</td>\n      <td>Steins;Gate</td>\n      <td>The self-proclaimed mad scientist Rintarou Oka...</td>\n      <td>TV</td>\n      <td>24</td>\n      <td>9.11</td>\n      <td>04-06-11</td>\n      <td>09-14-11</td>\n      <td>1,331,223</td>\n      <td>PG-13</td>\n    </tr>\n    <tr>\n      <td>3</td>\n      <td>Kimi no Na wa.</td>\n      <td>Mitsuha Miyamizu, a high school girl, yearns t...</td>\n      <td>Movie</td>\n      <td>1</td>\n      <td>9.09</td>\n      <td>08-26-16</td>\n      <td>08-26-16</td>\n      <td>1,129,347</td>\n      <td>PG-13</td>\n    </tr>\n    <tr>\n      <td>4</td>\n      <td>Shingeki no Kyojin Season 3 Part 2</td>\n      <td>Seeking to restore humanity’s diminishing hope...</td>\n      <td>TV</td>\n      <td>10</td>\n      <td>9.07</td>\n      <td>04-29-19</td>\n      <td>07-01-19</td>\n      <td>436,927</td>\n      <td>R</td>\n    </tr>\n    <tr>\n      <td>...</td>\n      <td>...</td>\n      <td>...</td>\n      <td>...</td>\n      <td>...</td>\n      <td>...</td>\n      <td>...</td>\n      <td>...</td>\n      <td>...</td>\n      <td>...</td>\n    </tr>\n    <tr>\n      <td>1955</td>\n      <td>Kakegurui××</td>\n      <td>As Yumeko Jabami&amp;#039;s fame grows and the rep...</td>\n      <td>TV</td>\n      <td>12</td>\n      <td>7.43</td>\n      <td>01-09-19</td>\n      <td>03-27-19</td>\n      <td>207,560</td>\n      <td>R</td>\n    </tr>\n    <tr>\n      <td>1956</td>\n      <td>Gensoumaden Saiyuuki Movie: Requiem - Erabarez...</td>\n      <td>The gang is traveling along when they find a g...</td>\n      <td>Movie</td>\n      <td>1</td>\n      <td>7.43</td>\n      <td>08-18-01</td>\n      <td>08-18-01</td>\n      <td>8,062</td>\n      <td>PG-13</td>\n    </tr>\n    <tr>\n      <td>1957</td>\n      <td>Sabage-bu!</td>\n      <td>Draw your weapons and take aim, because Sabage...</td>\n      <td>TV</td>\n      <td>12</td>\n      <td>7.43</td>\n      <td>07-06-14</td>\n      <td>09-21-14</td>\n      <td>111,277</td>\n      <td>PG-13</td>\n    </tr>\n    <tr>\n      <td>1958</td>\n      <td>Micchiri Neko March</td>\n      <td>A music video created for the Micchiri Neko ch...</td>\n      <td>Music</td>\n      <td>1</td>\n      <td>7.43</td>\n      <td>04-02-13</td>\n      <td>04-02-13</td>\n      <td>1,590</td>\n      <td>G</td>\n    </tr>\n    <tr>\n      <td>1959</td>\n      <td>High School DxD Hero</td>\n      <td>The fourth season of High School DxD.</td>\n      <td>TV</td>\n      <td>12</td>\n      <td>7.43</td>\n      <td>04-17-18</td>\n      <td>07-03-18</td>\n      <td>203,886</td>\n      <td>R+</td>\n    </tr>\n  </tbody>\n</table>\n<p>1960 rows × 9 columns</p>\n</div>",
      "text/plain": "                                                 naslov  \\\n0                      Fullmetal Alchemist: Brotherhood   \n1                                Hunter x Hunter (2011)   \n2                                           Steins;Gate   \n3                                        Kimi no Na wa.   \n4                    Shingeki no Kyojin Season 3 Part 2   \n...                                                 ...   \n1955                                        Kakegurui××   \n1956  Gensoumaden Saiyuuki Movie: Requiem - Erabarez...   \n1957                                         Sabage-bu!   \n1958                                Micchiri Neko March   \n1959                               High School DxD Hero   \n\n                                                   opis   type  \\\n0     &quot;In order for something to be obtained, s...     TV   \n1     Hunter x Hunter is set in a world where Hunter...     TV   \n2     The self-proclaimed mad scientist Rintarou Oka...     TV   \n3     Mitsuha Miyamizu, a high school girl, yearns t...  Movie   \n4     Seeking to restore humanity’s diminishing hope...     TV   \n...                                                 ...    ...   \n1955  As Yumeko Jabami&#039;s fame grows and the rep...     TV   \n1956  The gang is traveling along when they find a g...  Movie   \n1957  Draw your weapons and take aim, because Sabage...     TV   \n1958  A music video created for the Micchiri Neko ch...  Music   \n1959              The fourth season of High School DxD.     TV   \n\n      stevilo_epizod  ocena start_date  end_date stevilo_glasov rating  \n0                 64   9.23   04-05-09  07-04-10      1,614,799      R  \n1                148   9.11   10-02-11  09-24-14      1,052,750  PG-13  \n2                 24   9.11   04-06-11  09-14-11      1,331,223  PG-13  \n3                  1   9.09   08-26-16  08-26-16      1,129,347  PG-13  \n4                 10   9.07   04-29-19  07-01-19        436,927      R  \n...              ...    ...        ...       ...            ...    ...  \n1955              12   7.43   01-09-19  03-27-19        207,560      R  \n1956               1   7.43   08-18-01  08-18-01          8,062  PG-13  \n1957              12   7.43   07-06-14  09-21-14        111,277  PG-13  \n1958               1   7.43   04-02-13  04-02-13          1,590      G  \n1959              12   7.43   04-17-18  07-03-18        203,886     R+  \n\n[1960 rows x 9 columns]"
     },
     "execution_count": 70,
     "metadata": {},
     "output_type": "execute_result"
    }
   ],
   "source": [
    "anime"
   ]
  },
  {
   "cell_type": "code",
   "execution_count": 71,
   "metadata": {},
   "outputs": [
    {
     "data": {
      "text/plain": "7.844627551020409"
     },
     "execution_count": 71,
     "metadata": {},
     "output_type": "execute_result"
    }
   ],
   "source": [
    "# poglejmo najprej povprečno oceno animejev, da vidimo, kakšno filtriranje glede na ocene je najbolj smiselno\n",
    "# najprej izoliramo stolpec ocen\n",
    "anime_ocene = anime['ocena'] \n",
    "#nato izračunamo povrpacno vrednost\n",
    "anime_ocene.mean()"
   ]
  },
  {
   "cell_type": "code",
   "execution_count": 72,
   "metadata": {},
   "outputs": [
    {
     "data": {
      "text/html": "<div>\n<style scoped>\n    .dataframe tbody tr th:only-of-type {\n        vertical-align: middle;\n    }\n\n    .dataframe tbody tr th {\n        vertical-align: top;\n    }\n\n    .dataframe thead th {\n        text-align: right;\n    }\n</style>\n<table border=\"1\" class=\"dataframe\">\n  <thead>\n    <tr style=\"text-align: right;\">\n      <th></th>\n      <th>stevilo_epizod</th>\n      <th>ocena</th>\n    </tr>\n    <tr>\n      <th>rating</th>\n      <th></th>\n      <th></th>\n    </tr>\n  </thead>\n  <tbody>\n    <tr>\n      <td>-</td>\n      <td>5.700000</td>\n      <td>7.972000</td>\n    </tr>\n    <tr>\n      <td>G</td>\n      <td>18.022989</td>\n      <td>7.756264</td>\n    </tr>\n    <tr>\n      <td>PG</td>\n      <td>47.808219</td>\n      <td>7.706027</td>\n    </tr>\n    <tr>\n      <td>PG-13</td>\n      <td>17.011419</td>\n      <td>7.853923</td>\n    </tr>\n    <tr>\n      <td>R</td>\n      <td>12.971910</td>\n      <td>7.907528</td>\n    </tr>\n    <tr>\n      <td>R+</td>\n      <td>13.451923</td>\n      <td>7.798750</td>\n    </tr>\n    <tr>\n      <td>Rx</td>\n      <td>3.470588</td>\n      <td>7.562353</td>\n    </tr>\n  </tbody>\n</table>\n</div>",
      "text/plain": "        stevilo_epizod     ocena\nrating                          \n-             5.700000  7.972000\nG            18.022989  7.756264\nPG           47.808219  7.706027\nPG-13        17.011419  7.853923\nR            12.971910  7.907528\nR+           13.451923  7.798750\nRx            3.470588  7.562353"
     },
     "execution_count": 72,
     "metadata": {},
     "output_type": "execute_result"
    }
   ],
   "source": [
    "# naravno se zdi, da animeje grupiramo po (maturity) rating-u ter nato izračunamo povprečno oceno po posamezni skupini, da vidimo, če obstaja kakšna korelacija\n",
    "anime_group_by_rating = anime.groupby('rating')\n",
    "# pogledamo povprečje posamezne skupine za ocene in število epizod\n",
    "anime_group_by_rating.mean()"
   ]
  },
  {
   "cell_type": "code",
   "execution_count": 73,
   "metadata": {},
   "outputs": [
    {
     "data": {
      "text/plain": "stevilo_epizod\n1       669\n2        79\n3        48\n4        44\n5        16\n       ... \n358       1\n366       1\n373       1\n500       1\n1787      1\nLength: 112, dtype: int64"
     },
     "execution_count": 73,
     "metadata": {},
     "output_type": "execute_result"
    }
   ],
   "source": [
    "# zanima nas, ali obstaja korelacija med oceno in številom epizod\n",
    "# prepostavljamo, da imajo bolj popularni animeji večje število epizod\n",
    "# pogrupiramo jih po številu epizod\n",
    "anime.groupby('stevilo_epizod').size()"
   ]
  },
  {
   "cell_type": "code",
   "execution_count": 74,
   "metadata": {},
   "outputs": [
    {
     "data": {
      "text/html": "<div>\n<style scoped>\n    .dataframe tbody tr th:only-of-type {\n        vertical-align: middle;\n    }\n\n    .dataframe tbody tr th {\n        vertical-align: top;\n    }\n\n    .dataframe thead th {\n        text-align: right;\n    }\n</style>\n<table border=\"1\" class=\"dataframe\">\n  <thead>\n    <tr style=\"text-align: right;\">\n      <th></th>\n      <th>ocena</th>\n    </tr>\n    <tr>\n      <th>stevilo_epizod</th>\n      <th></th>\n    </tr>\n  </thead>\n  <tbody>\n    <tr>\n      <td>1</td>\n      <td>7.808535</td>\n    </tr>\n    <tr>\n      <td>2</td>\n      <td>7.768228</td>\n    </tr>\n    <tr>\n      <td>3</td>\n      <td>7.742708</td>\n    </tr>\n    <tr>\n      <td>4</td>\n      <td>7.807955</td>\n    </tr>\n    <tr>\n      <td>5</td>\n      <td>7.688125</td>\n    </tr>\n    <tr>\n      <td>...</td>\n      <td>...</td>\n    </tr>\n    <tr>\n      <td>358</td>\n      <td>7.820000</td>\n    </tr>\n    <tr>\n      <td>366</td>\n      <td>7.870000</td>\n    </tr>\n    <tr>\n      <td>373</td>\n      <td>7.800000</td>\n    </tr>\n    <tr>\n      <td>500</td>\n      <td>8.200000</td>\n    </tr>\n    <tr>\n      <td>1787</td>\n      <td>7.740000</td>\n    </tr>\n  </tbody>\n</table>\n<p>112 rows × 1 columns</p>\n</div>",
      "text/plain": "                   ocena\nstevilo_epizod          \n1               7.808535\n2               7.768228\n3               7.742708\n4               7.807955\n5               7.688125\n...                  ...\n358             7.820000\n366             7.870000\n373             7.800000\n500             8.200000\n1787            7.740000\n\n[112 rows x 1 columns]"
     },
     "execution_count": 74,
     "metadata": {},
     "output_type": "execute_result"
    }
   ],
   "source": [
    "# izračunamo povprečno oceno posamezne skupine animejev, glede na število epizod\n",
    "anime.groupby('stevilo_epizod').mean()"
   ]
  },
  {
   "cell_type": "code",
   "execution_count": 75,
   "metadata": {},
   "outputs": [
    {
     "data": {
      "text/plain": "type\nMovie      432\nMusic       21\nONA         68\nOVA        271\nSpecial    190\nTV         978\ndtype: int64"
     },
     "execution_count": 75,
     "metadata": {},
     "output_type": "execute_result"
    }
   ],
   "source": [
    "# poglejmo število animejev glede na vrsto/zvrst (type)\n",
    "# previdevamo, da je TV najbolj popularen tip\n",
    "anime_group_by_type = anime.groupby('type')\n",
    "anime_group_by_type.size()"
   ]
  },
  {
   "cell_type": "code",
   "execution_count": 76,
   "metadata": {},
   "outputs": [
    {
     "data": {
      "text/plain": "type\nMovie      7.859398\nMusic      7.648095\nONA        7.750882\nOVA        7.761218\nSpecial    7.759895\nTV         7.888415\nName: ocena, dtype: float64"
     },
     "execution_count": 76,
     "metadata": {},
     "output_type": "execute_result"
    }
   ],
   "source": [
    "# zanima nas, ali obstaja kakšna povezava med tem, kakšne vrste je anime in tem, kakšno oceno ima\n",
    "anime_group_by_type['ocena'].mean()\n",
    "\n",
    "# presenetljiva ugotovitev je, da se povprečna ocena glede na tip ne razlikuje"
   ]
  },
  {
   "cell_type": "code",
   "execution_count": 77,
   "metadata": {},
   "outputs": [
    {
     "data": {
      "text/html": "<div>\n<style scoped>\n    .dataframe tbody tr th:only-of-type {\n        vertical-align: middle;\n    }\n\n    .dataframe tbody tr th {\n        vertical-align: top;\n    }\n\n    .dataframe thead th {\n        text-align: right;\n    }\n</style>\n<table border=\"1\" class=\"dataframe\">\n  <thead>\n    <tr style=\"text-align: right;\">\n      <th></th>\n      <th>naslov</th>\n      <th>opis</th>\n      <th>type</th>\n      <th>stevilo_epizod</th>\n      <th>ocena</th>\n      <th>start_date</th>\n      <th>end_date</th>\n      <th>stevilo_glasov</th>\n      <th>rating</th>\n    </tr>\n  </thead>\n  <tbody>\n    <tr>\n      <td>0</td>\n      <td>Fullmetal Alchemist: Brotherhood</td>\n      <td>&amp;quot;In order for something to be obtained, s...</td>\n      <td>TV</td>\n      <td>64</td>\n      <td>9.23</td>\n      <td>04-05-09</td>\n      <td>07-04-10</td>\n      <td>1,614,799</td>\n      <td>R</td>\n    </tr>\n    <tr>\n      <td>1</td>\n      <td>Hunter x Hunter (2011)</td>\n      <td>Hunter x Hunter is set in a world where Hunter...</td>\n      <td>TV</td>\n      <td>148</td>\n      <td>9.11</td>\n      <td>10-02-11</td>\n      <td>09-24-14</td>\n      <td>1,052,750</td>\n      <td>PG-13</td>\n    </tr>\n    <tr>\n      <td>2</td>\n      <td>Steins;Gate</td>\n      <td>The self-proclaimed mad scientist Rintarou Oka...</td>\n      <td>TV</td>\n      <td>24</td>\n      <td>9.11</td>\n      <td>04-06-11</td>\n      <td>09-14-11</td>\n      <td>1,331,223</td>\n      <td>PG-13</td>\n    </tr>\n    <tr>\n      <td>3</td>\n      <td>Kimi no Na wa.</td>\n      <td>Mitsuha Miyamizu, a high school girl, yearns t...</td>\n      <td>Movie</td>\n      <td>1</td>\n      <td>9.09</td>\n      <td>08-26-16</td>\n      <td>08-26-16</td>\n      <td>1,129,347</td>\n      <td>PG-13</td>\n    </tr>\n    <tr>\n      <td>4</td>\n      <td>Shingeki no Kyojin Season 3 Part 2</td>\n      <td>Seeking to restore humanity’s diminishing hope...</td>\n      <td>TV</td>\n      <td>10</td>\n      <td>9.07</td>\n      <td>04-29-19</td>\n      <td>07-01-19</td>\n      <td>436,927</td>\n      <td>R</td>\n    </tr>\n    <tr>\n      <td>...</td>\n      <td>...</td>\n      <td>...</td>\n      <td>...</td>\n      <td>...</td>\n      <td>...</td>\n      <td>...</td>\n      <td>...</td>\n      <td>...</td>\n      <td>...</td>\n    </tr>\n    <tr>\n      <td>1955</td>\n      <td>Kakegurui××</td>\n      <td>As Yumeko Jabami&amp;#039;s fame grows and the rep...</td>\n      <td>TV</td>\n      <td>12</td>\n      <td>7.43</td>\n      <td>01-09-19</td>\n      <td>03-27-19</td>\n      <td>207,560</td>\n      <td>R</td>\n    </tr>\n    <tr>\n      <td>1956</td>\n      <td>Gensoumaden Saiyuuki Movie: Requiem - Erabarez...</td>\n      <td>The gang is traveling along when they find a g...</td>\n      <td>Movie</td>\n      <td>1</td>\n      <td>7.43</td>\n      <td>08-18-01</td>\n      <td>08-18-01</td>\n      <td>8,062</td>\n      <td>PG-13</td>\n    </tr>\n    <tr>\n      <td>1957</td>\n      <td>Sabage-bu!</td>\n      <td>Draw your weapons and take aim, because Sabage...</td>\n      <td>TV</td>\n      <td>12</td>\n      <td>7.43</td>\n      <td>07-06-14</td>\n      <td>09-21-14</td>\n      <td>111,277</td>\n      <td>PG-13</td>\n    </tr>\n    <tr>\n      <td>1958</td>\n      <td>Micchiri Neko March</td>\n      <td>A music video created for the Micchiri Neko ch...</td>\n      <td>Music</td>\n      <td>1</td>\n      <td>7.43</td>\n      <td>04-02-13</td>\n      <td>04-02-13</td>\n      <td>1,590</td>\n      <td>G</td>\n    </tr>\n    <tr>\n      <td>1959</td>\n      <td>High School DxD Hero</td>\n      <td>The fourth season of High School DxD.</td>\n      <td>TV</td>\n      <td>12</td>\n      <td>7.43</td>\n      <td>04-17-18</td>\n      <td>07-03-18</td>\n      <td>203,886</td>\n      <td>R+</td>\n    </tr>\n  </tbody>\n</table>\n<p>258 rows × 9 columns</p>\n</div>",
      "text/plain": "                                                 naslov  \\\n0                      Fullmetal Alchemist: Brotherhood   \n1                                Hunter x Hunter (2011)   \n2                                           Steins;Gate   \n3                                        Kimi no Na wa.   \n4                    Shingeki no Kyojin Season 3 Part 2   \n...                                                 ...   \n1955                                        Kakegurui××   \n1956  Gensoumaden Saiyuuki Movie: Requiem - Erabarez...   \n1957                                         Sabage-bu!   \n1958                                Micchiri Neko March   \n1959                               High School DxD Hero   \n\n                                                   opis   type  \\\n0     &quot;In order for something to be obtained, s...     TV   \n1     Hunter x Hunter is set in a world where Hunter...     TV   \n2     The self-proclaimed mad scientist Rintarou Oka...     TV   \n3     Mitsuha Miyamizu, a high school girl, yearns t...  Movie   \n4     Seeking to restore humanity’s diminishing hope...     TV   \n...                                                 ...    ...   \n1955  As Yumeko Jabami&#039;s fame grows and the rep...     TV   \n1956  The gang is traveling along when they find a g...  Movie   \n1957  Draw your weapons and take aim, because Sabage...     TV   \n1958  A music video created for the Micchiri Neko ch...  Music   \n1959              The fourth season of High School DxD.     TV   \n\n      stevilo_epizod  ocena start_date  end_date stevilo_glasov rating  \n0                 64   9.23   04-05-09  07-04-10      1,614,799      R  \n1                148   9.11   10-02-11  09-24-14      1,052,750  PG-13  \n2                 24   9.11   04-06-11  09-14-11      1,331,223  PG-13  \n3                  1   9.09   08-26-16  08-26-16      1,129,347  PG-13  \n4                 10   9.07   04-29-19  07-01-19        436,927      R  \n...              ...    ...        ...       ...            ...    ...  \n1955              12   7.43   01-09-19  03-27-19        207,560      R  \n1956               1   7.43   08-18-01  08-18-01          8,062  PG-13  \n1957              12   7.43   07-06-14  09-21-14        111,277  PG-13  \n1958               1   7.43   04-02-13  04-02-13          1,590      G  \n1959              12   7.43   04-17-18  07-03-18        203,886     R+  \n\n[258 rows x 9 columns]"
     },
     "execution_count": 77,
     "metadata": {},
     "output_type": "execute_result"
    }
   ],
   "source": [
    "# zanima nas, kateri animeji so zelo nadpovprečni oz podpovprečni ter koliko jih je\n",
    "podvoprecni = anime['ocena'] < 7.5\n",
    "nadpovprecni = anime['ocena'] > 9\n",
    "anime[podvoprecni | nadpovprecni]"
   ]
  },
  {
   "cell_type": "code",
   "execution_count": 81,
   "metadata": {},
   "outputs": [
    {
     "data": {
      "text/plain": "ocena\nFalse    1712\nTrue      248\ndtype: int64"
     },
     "execution_count": 81,
     "metadata": {},
     "output_type": "execute_result"
    }
   ],
   "source": [
    "# sedaj jih še preštejemo\n",
    "anime.groupby(anime.ocena < 7.5).size()"
   ]
  },
  {
   "cell_type": "code",
   "execution_count": 83,
   "metadata": {},
   "outputs": [
    {
     "data": {
      "text/plain": "ocena\nFalse    1950\nTrue       10\ndtype: int64"
     },
     "execution_count": 83,
     "metadata": {},
     "output_type": "execute_result"
    }
   ],
   "source": [
    "anime.groupby(anime.ocena > 9).size()"
   ]
  },
  {
   "cell_type": "code",
   "execution_count": null,
   "metadata": {},
   "outputs": [],
   "source": []
  }
 ],
 "metadata": {
  "file_extension": ".py",
  "kernelspec": {
   "display_name": "Python 3",
   "language": "python",
   "name": "python3"
  },
  "language_info": {
   "codemirror_mode": {
    "name": "ipython",
    "version": 3
   },
   "file_extension": ".py",
   "mimetype": "text/x-python",
   "name": "python",
   "nbconvert_exporter": "python",
   "pygments_lexer": "ipython3",
   "version": "3.7.0"
  },
  "mimetype": "text/x-python",
  "name": "python",
  "npconvert_exporter": "python",
  "pygments_lexer": "ipython3",
  "version": 3
 },
 "nbformat": 4,
 "nbformat_minor": 2
}