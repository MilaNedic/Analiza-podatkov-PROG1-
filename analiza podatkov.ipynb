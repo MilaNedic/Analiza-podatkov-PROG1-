{
 "cells": [
  {
   "cell_type": "code",
   "execution_count": 2,
   "metadata": {},
   "outputs": [],
   "source": [
    "# naložimo knjižnice\n",
    "import numpy as np \n",
    "import pandas as pd\n",
    "import os\n",
    "\n",
    "# naložimo razpredelnico, s katero bomo delali\n",
    "anime = pd.read_csv('anime/anime.csv')\n",
    "\n",
    "# izberemo interaktivni \"notebook\" stil risanja\n",
    "%matplotlib inline\n"
   ]
  },
  {
   "cell_type": "code",
   "execution_count": 3,
   "metadata": {},
   "outputs": [
    {
     "data": {
      "text/plain": "'c:\\\\Users\\\\rosel\\\\Desktop\\\\Analiza-podatkov-PROG1-'"
     },
     "execution_count": 3,
     "metadata": {},
     "output_type": "execute_result"
    }
   ],
   "source": [
    "# vidimo, v kateri mapi se trenutno nahajamo -> specificiramo pot, kjer naj pd isce .csv datoteko\n",
    "os.getcwd()"
   ]
  },
  {
   "cell_type": "code",
   "execution_count": 4,
   "metadata": {},
   "outputs": [
    {
     "data": {
      "text/html": "<div>\n<style scoped>\n    .dataframe tbody tr th:only-of-type {\n        vertical-align: middle;\n    }\n\n    .dataframe tbody tr th {\n        vertical-align: top;\n    }\n\n    .dataframe thead th {\n        text-align: right;\n    }\n</style>\n<table border=\"1\" class=\"dataframe\">\n  <thead>\n    <tr style=\"text-align: right;\">\n      <th></th>\n      <th>naslov</th>\n      <th>opis</th>\n      <th>type</th>\n      <th>stevilo_epizod</th>\n      <th>ocena</th>\n      <th>start_date</th>\n      <th>end_date</th>\n      <th>stevilo_glasov</th>\n      <th>rating</th>\n    </tr>\n  </thead>\n  <tbody>\n    <tr>\n      <td>0</td>\n      <td>Fullmetal Alchemist: Brotherhood</td>\n      <td>&amp;quot;In order for something to be obtained, s...</td>\n      <td>TV</td>\n      <td>64</td>\n      <td>9.23</td>\n      <td>04-05-09</td>\n      <td>07-04-10</td>\n      <td>1,614,799</td>\n      <td>R</td>\n    </tr>\n    <tr>\n      <td>1</td>\n      <td>Steins;Gate</td>\n      <td>The self-proclaimed mad scientist Rintarou Oka...</td>\n      <td>TV</td>\n      <td>24</td>\n      <td>9.11</td>\n      <td>04-06-11</td>\n      <td>09-14-11</td>\n      <td>1,331,223</td>\n      <td>PG-13</td>\n    </tr>\n    <tr>\n      <td>2</td>\n      <td>Hunter x Hunter (2011)</td>\n      <td>Hunter x Hunter is set in a world where Hunter...</td>\n      <td>TV</td>\n      <td>148</td>\n      <td>9.10</td>\n      <td>10-02-11</td>\n      <td>09-24-14</td>\n      <td>1,046,923</td>\n      <td>PG-13</td>\n    </tr>\n    <tr>\n      <td>3</td>\n      <td>Kimi no Na wa.</td>\n      <td>Mitsuha Miyamizu, a high school girl, yearns t...</td>\n      <td>Movie</td>\n      <td>1</td>\n      <td>9.09</td>\n      <td>08-26-16</td>\n      <td>08-26-16</td>\n      <td>1,129,347</td>\n      <td>PG-13</td>\n    </tr>\n    <tr>\n      <td>4</td>\n      <td>Shingeki no Kyojin Season 3 Part 2</td>\n      <td>Seeking to restore humanity’s diminishing hope...</td>\n      <td>TV</td>\n      <td>10</td>\n      <td>9.07</td>\n      <td>04-29-19</td>\n      <td>07-01-19</td>\n      <td>436,927</td>\n      <td>R</td>\n    </tr>\n    <tr>\n      <td>...</td>\n      <td>...</td>\n      <td>...</td>\n      <td>...</td>\n      <td>...</td>\n      <td>...</td>\n      <td>...</td>\n      <td>...</td>\n      <td>...</td>\n      <td>...</td>\n    </tr>\n    <tr>\n      <td>975</td>\n      <td>Code Geass: Hangyaku no Lelouch II - Handou</td>\n      <td>Having achieved miraculous victories in a seri...</td>\n      <td>Movie</td>\n      <td>1</td>\n      <td>7.76</td>\n      <td>02-10-18</td>\n      <td>02-10-18</td>\n      <td>36,577</td>\n      <td>R</td>\n    </tr>\n    <tr>\n      <td>976</td>\n      <td>Detective Conan Movie 10: Promo Special</td>\n      <td>A promotional preview summary of the events in...</td>\n      <td>Special</td>\n      <td>1</td>\n      <td>7.76</td>\n      <td>??-??-06</td>\n      <td>??-??-06</td>\n      <td>6,799</td>\n      <td>PG-13</td>\n    </tr>\n    <tr>\n      <td>977</td>\n      <td>Crayon Shin-chan Movie 09: Arashi wo Yobu Mour...</td>\n      <td>Adult people all over Japan had been captivate...</td>\n      <td>Movie</td>\n      <td>1</td>\n      <td>7.76</td>\n      <td>04-21-01</td>\n      <td>04-21-01</td>\n      <td>4,737</td>\n      <td>G</td>\n    </tr>\n    <tr>\n      <td>978</td>\n      <td>Daicon Opening Animations</td>\n      <td>A girl is visited by two men from a space ship...</td>\n      <td>Special</td>\n      <td>2</td>\n      <td>7.76</td>\n      <td>08-22-81</td>\n      <td>08-20-83</td>\n      <td>13,406</td>\n      <td>PG</td>\n    </tr>\n    <tr>\n      <td>979</td>\n      <td>Macross Plus Movie Edition</td>\n      <td>A.D. 2040—Thirty years have passed since the b...</td>\n      <td>Movie</td>\n      <td>1</td>\n      <td>7.76</td>\n      <td>10-07-95</td>\n      <td>10-07-95</td>\n      <td>11,796</td>\n      <td>PG-13</td>\n    </tr>\n  </tbody>\n</table>\n<p>980 rows × 9 columns</p>\n</div>",
      "text/plain": "                                                naslov  \\\n0                     Fullmetal Alchemist: Brotherhood   \n1                                          Steins;Gate   \n2                               Hunter x Hunter (2011)   \n3                                       Kimi no Na wa.   \n4                   Shingeki no Kyojin Season 3 Part 2   \n..                                                 ...   \n975        Code Geass: Hangyaku no Lelouch II - Handou   \n976            Detective Conan Movie 10: Promo Special   \n977  Crayon Shin-chan Movie 09: Arashi wo Yobu Mour...   \n978                          Daicon Opening Animations   \n979                         Macross Plus Movie Edition   \n\n                                                  opis     type  \\\n0    &quot;In order for something to be obtained, s...       TV   \n1    The self-proclaimed mad scientist Rintarou Oka...       TV   \n2    Hunter x Hunter is set in a world where Hunter...       TV   \n3    Mitsuha Miyamizu, a high school girl, yearns t...    Movie   \n4    Seeking to restore humanity’s diminishing hope...       TV   \n..                                                 ...      ...   \n975  Having achieved miraculous victories in a seri...    Movie   \n976  A promotional preview summary of the events in...  Special   \n977  Adult people all over Japan had been captivate...    Movie   \n978  A girl is visited by two men from a space ship...  Special   \n979  A.D. 2040—Thirty years have passed since the b...    Movie   \n\n     stevilo_epizod  ocena start_date  end_date stevilo_glasov rating  \n0                64   9.23   04-05-09  07-04-10      1,614,799      R  \n1                24   9.11   04-06-11  09-14-11      1,331,223  PG-13  \n2               148   9.10   10-02-11  09-24-14      1,046,923  PG-13  \n3                 1   9.09   08-26-16  08-26-16      1,129,347  PG-13  \n4                10   9.07   04-29-19  07-01-19        436,927      R  \n..              ...    ...        ...       ...            ...    ...  \n975               1   7.76   02-10-18  02-10-18         36,577      R  \n976               1   7.76   ??-??-06  ??-??-06          6,799  PG-13  \n977               1   7.76   04-21-01  04-21-01          4,737      G  \n978               2   7.76   08-22-81  08-20-83         13,406     PG  \n979               1   7.76   10-07-95  10-07-95         11,796  PG-13  \n\n[980 rows x 9 columns]"
     },
     "execution_count": 4,
     "metadata": {},
     "output_type": "execute_result"
    }
   ],
   "source": [
    "anime"
   ]
  },
  {
   "cell_type": "code",
   "execution_count": 5,
   "metadata": {},
   "outputs": [
    {
     "data": {
      "text/plain": "8.112265306122449"
     },
     "execution_count": 5,
     "metadata": {},
     "output_type": "execute_result"
    }
   ],
   "source": [
    "# poglejmo najprej povprečno oceno animejev, da vidimo, kakšno filtriranje glede na ocene je najbolj smiselno\n",
    "# najprej izoliramo stolpec ocen\n",
    "anime_ocene = anime['ocena'] \n",
    "#nato izračunamo povrpacno vrednost\n",
    "anime_ocene.mean()"
   ]
  },
  {
   "cell_type": "code",
   "execution_count": 6,
   "metadata": {},
   "outputs": [
    {
     "data": {
      "text/html": "<div>\n<style scoped>\n    .dataframe tbody tr th:only-of-type {\n        vertical-align: middle;\n    }\n\n    .dataframe tbody tr th {\n        vertical-align: top;\n    }\n\n    .dataframe thead th {\n        text-align: right;\n    }\n</style>\n<table border=\"1\" class=\"dataframe\">\n  <thead>\n    <tr style=\"text-align: right;\">\n      <th></th>\n      <th>stevilo_epizod</th>\n      <th>ocena</th>\n    </tr>\n    <tr>\n      <th>rating</th>\n      <th></th>\n      <th></th>\n    </tr>\n  </thead>\n  <tbody>\n    <tr>\n      <td>-</td>\n      <td>5.857143</td>\n      <td>8.162857</td>\n    </tr>\n    <tr>\n      <td>G</td>\n      <td>17.166667</td>\n      <td>8.028889</td>\n    </tr>\n    <tr>\n      <td>PG</td>\n      <td>11.571429</td>\n      <td>8.071905</td>\n    </tr>\n    <tr>\n      <td>PG-13</td>\n      <td>20.144444</td>\n      <td>8.113000</td>\n    </tr>\n    <tr>\n      <td>R</td>\n      <td>14.328431</td>\n      <td>8.148039</td>\n    </tr>\n    <tr>\n      <td>R+</td>\n      <td>18.400000</td>\n      <td>8.089778</td>\n    </tr>\n    <tr>\n      <td>Rx</td>\n      <td>4.000000</td>\n      <td>7.860000</td>\n    </tr>\n  </tbody>\n</table>\n</div>",
      "text/plain": "        stevilo_epizod     ocena\nrating                          \n-             5.857143  8.162857\nG            17.166667  8.028889\nPG           11.571429  8.071905\nPG-13        20.144444  8.113000\nR            14.328431  8.148039\nR+           18.400000  8.089778\nRx            4.000000  7.860000"
     },
     "execution_count": 6,
     "metadata": {},
     "output_type": "execute_result"
    }
   ],
   "source": [
    "# naravno se zdi, da animeje grupiramo po (maturity) rating-u ter nato izračunamo povprečno oceno po posamezni skupini, da vidimo, če obstaja kakšna korelacija\n",
    "anime_group_by_rating = anime.groupby('rating')\n",
    "# pogledamo povprečje posamezne skupine za ocene in število epizod\n",
    "anime_group_by_rating.mean()"
   ]
  },
  {
   "cell_type": "code",
   "execution_count": 7,
   "metadata": {},
   "outputs": [
    {
     "data": {
      "text/plain": "type\nMovie      234\nMusic        3\nONA         27\nOVA        109\nSpecial     82\nTV         525\ndtype: int64"
     },
     "execution_count": 7,
     "metadata": {},
     "output_type": "execute_result"
    }
   ],
   "source": [
    "# poglejmo število animejev glede na vrsto/zvrst (type)\n",
    "# previdevamo, da je TV najbolj popularen tip\n",
    "anime_group_by_type = anime.groupby('type')\n",
    "anime_group_by_type.size()"
   ]
  },
  {
   "cell_type": "code",
   "execution_count": 11,
   "metadata": {},
   "outputs": [
    {
     "data": {
      "text/html": "<div>\n<style scoped>\n    .dataframe tbody tr th:only-of-type {\n        vertical-align: middle;\n    }\n\n    .dataframe tbody tr th {\n        vertical-align: top;\n    }\n\n    .dataframe thead th {\n        text-align: right;\n    }\n</style>\n<table border=\"1\" class=\"dataframe\">\n  <thead>\n    <tr style=\"text-align: right;\">\n      <th></th>\n      <th>naslov</th>\n      <th>opis</th>\n      <th>type</th>\n      <th>stevilo_epizod</th>\n      <th>ocena</th>\n      <th>start_date</th>\n      <th>end_date</th>\n      <th>stevilo_glasov</th>\n      <th>rating</th>\n    </tr>\n  </thead>\n  <tbody>\n    <tr>\n      <td>0</td>\n      <td>Fullmetal Alchemist: Brotherhood</td>\n      <td>&amp;quot;In order for something to be obtained, s...</td>\n      <td>TV</td>\n      <td>64</td>\n      <td>9.23</td>\n      <td>04-05-09</td>\n      <td>07-04-10</td>\n      <td>1,614,799</td>\n      <td>R</td>\n    </tr>\n    <tr>\n      <td>1</td>\n      <td>Steins;Gate</td>\n      <td>The self-proclaimed mad scientist Rintarou Oka...</td>\n      <td>TV</td>\n      <td>24</td>\n      <td>9.11</td>\n      <td>04-06-11</td>\n      <td>09-14-11</td>\n      <td>1,331,223</td>\n      <td>PG-13</td>\n    </tr>\n    <tr>\n      <td>2</td>\n      <td>Hunter x Hunter (2011)</td>\n      <td>Hunter x Hunter is set in a world where Hunter...</td>\n      <td>TV</td>\n      <td>148</td>\n      <td>9.10</td>\n      <td>10-02-11</td>\n      <td>09-24-14</td>\n      <td>1,046,923</td>\n      <td>PG-13</td>\n    </tr>\n    <tr>\n      <td>3</td>\n      <td>Kimi no Na wa.</td>\n      <td>Mitsuha Miyamizu, a high school girl, yearns t...</td>\n      <td>Movie</td>\n      <td>1</td>\n      <td>9.09</td>\n      <td>08-26-16</td>\n      <td>08-26-16</td>\n      <td>1,129,347</td>\n      <td>PG-13</td>\n    </tr>\n    <tr>\n      <td>4</td>\n      <td>Shingeki no Kyojin Season 3 Part 2</td>\n      <td>Seeking to restore humanity’s diminishing hope...</td>\n      <td>TV</td>\n      <td>10</td>\n      <td>9.07</td>\n      <td>04-29-19</td>\n      <td>07-01-19</td>\n      <td>436,927</td>\n      <td>R</td>\n    </tr>\n    <tr>\n      <td>...</td>\n      <td>...</td>\n      <td>...</td>\n      <td>...</td>\n      <td>...</td>\n      <td>...</td>\n      <td>...</td>\n      <td>...</td>\n      <td>...</td>\n      <td>...</td>\n    </tr>\n    <tr>\n      <td>975</td>\n      <td>Code Geass: Hangyaku no Lelouch II - Handou</td>\n      <td>Having achieved miraculous victories in a seri...</td>\n      <td>Movie</td>\n      <td>1</td>\n      <td>7.76</td>\n      <td>02-10-18</td>\n      <td>02-10-18</td>\n      <td>36,577</td>\n      <td>R</td>\n    </tr>\n    <tr>\n      <td>976</td>\n      <td>Detective Conan Movie 10: Promo Special</td>\n      <td>A promotional preview summary of the events in...</td>\n      <td>Special</td>\n      <td>1</td>\n      <td>7.76</td>\n      <td>??-??-06</td>\n      <td>??-??-06</td>\n      <td>6,799</td>\n      <td>PG-13</td>\n    </tr>\n    <tr>\n      <td>977</td>\n      <td>Crayon Shin-chan Movie 09: Arashi wo Yobu Mour...</td>\n      <td>Adult people all over Japan had been captivate...</td>\n      <td>Movie</td>\n      <td>1</td>\n      <td>7.76</td>\n      <td>04-21-01</td>\n      <td>04-21-01</td>\n      <td>4,737</td>\n      <td>G</td>\n    </tr>\n    <tr>\n      <td>978</td>\n      <td>Daicon Opening Animations</td>\n      <td>A girl is visited by two men from a space ship...</td>\n      <td>Special</td>\n      <td>2</td>\n      <td>7.76</td>\n      <td>08-22-81</td>\n      <td>08-20-83</td>\n      <td>13,406</td>\n      <td>PG</td>\n    </tr>\n    <tr>\n      <td>979</td>\n      <td>Macross Plus Movie Edition</td>\n      <td>A.D. 2040—Thirty years have passed since the b...</td>\n      <td>Movie</td>\n      <td>1</td>\n      <td>7.76</td>\n      <td>10-07-95</td>\n      <td>10-07-95</td>\n      <td>11,796</td>\n      <td>PG-13</td>\n    </tr>\n  </tbody>\n</table>\n<p>89 rows × 9 columns</p>\n</div>",
      "text/plain": "                                                naslov  \\\n0                     Fullmetal Alchemist: Brotherhood   \n1                                          Steins;Gate   \n2                               Hunter x Hunter (2011)   \n3                                       Kimi no Na wa.   \n4                   Shingeki no Kyojin Season 3 Part 2   \n..                                                 ...   \n975        Code Geass: Hangyaku no Lelouch II - Handou   \n976            Detective Conan Movie 10: Promo Special   \n977  Crayon Shin-chan Movie 09: Arashi wo Yobu Mour...   \n978                          Daicon Opening Animations   \n979                         Macross Plus Movie Edition   \n\n                                                  opis     type  \\\n0    &quot;In order for something to be obtained, s...       TV   \n1    The self-proclaimed mad scientist Rintarou Oka...       TV   \n2    Hunter x Hunter is set in a world where Hunter...       TV   \n3    Mitsuha Miyamizu, a high school girl, yearns t...    Movie   \n4    Seeking to restore humanity’s diminishing hope...       TV   \n..                                                 ...      ...   \n975  Having achieved miraculous victories in a seri...    Movie   \n976  A promotional preview summary of the events in...  Special   \n977  Adult people all over Japan had been captivate...    Movie   \n978  A girl is visited by two men from a space ship...  Special   \n979  A.D. 2040—Thirty years have passed since the b...    Movie   \n\n     stevilo_epizod  ocena start_date  end_date stevilo_glasov rating  \n0                64   9.23   04-05-09  07-04-10      1,614,799      R  \n1                24   9.11   04-06-11  09-14-11      1,331,223  PG-13  \n2               148   9.10   10-02-11  09-24-14      1,046,923  PG-13  \n3                 1   9.09   08-26-16  08-26-16      1,129,347  PG-13  \n4                10   9.07   04-29-19  07-01-19        436,927      R  \n..              ...    ...        ...       ...            ...    ...  \n975               1   7.76   02-10-18  02-10-18         36,577      R  \n976               1   7.76   ??-??-06  ??-??-06          6,799  PG-13  \n977               1   7.76   04-21-01  04-21-01          4,737      G  \n978               2   7.76   08-22-81  08-20-83         13,406     PG  \n979               1   7.76   10-07-95  10-07-95         11,796  PG-13  \n\n[89 rows x 9 columns]"
     },
     "execution_count": 11,
     "metadata": {},
     "output_type": "execute_result"
    }
   ],
   "source": [
    "# zanima nas, kateri animeji so zelo nadpovprečni oz podpovprečni ter koliko jih je\n",
    "podvoprecni = anime['ocena'] < 7.8\n",
    "nadpovprecni = anime['ocena'] > 9\n",
    "anime[podvoprecni | nadpovprecni]"
   ]
  },
  {
   "cell_type": "code",
   "execution_count": null,
   "metadata": {},
   "outputs": [],
   "source": []
  }
 ],
 "metadata": {
  "file_extension": ".py",
  "kernelspec": {
   "display_name": "Python 3",
   "language": "python",
   "name": "python3"
  },
  "language_info": {
   "codemirror_mode": {
    "name": "ipython",
    "version": 3
   },
   "file_extension": ".py",
   "mimetype": "text/x-python",
   "name": "python",
   "nbconvert_exporter": "python",
   "pygments_lexer": "ipython3",
   "version": "3.7.0"
  },
  "mimetype": "text/x-python",
  "name": "python",
  "npconvert_exporter": "python",
  "pygments_lexer": "ipython3",
  "version": 3
 },
 "nbformat": 4,
 "nbformat_minor": 2
}